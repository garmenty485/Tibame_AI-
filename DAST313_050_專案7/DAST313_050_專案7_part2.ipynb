{
 "cells": [
  {
   "cell_type": "markdown",
   "metadata": {
    "id": "93vwwPeGVCZP"
   },
   "source": [
    "實作說明：\n",
    "嘗試至少以下述方式之一(或用其他方式)提高正確率，以Matplotlib loss/accuracy 圖示之 \n",
    "\n",
    "Dropout Rate(目前 0.2)\n",
    "\n",
    "Batch Normalization (API?)\n",
    "\n",
    "Kernel Size (目前 3 x 3)\n",
    "\n",
    "Activation Function (目前 Relu)\n",
    "\n",
    "Optimization: (目前 adam)"
   ]
  },
  {
   "cell_type": "code",
   "execution_count": 1,
   "metadata": {
    "colab": {
     "base_uri": "https://localhost:8080/",
     "height": 34
    },
    "id": "pmNpq8GML1jW",
    "outputId": "02aeded4-fdcb-4859-8e3a-73ee2411f159"
   },
   "outputs": [
    {
     "name": "stdout",
     "output_type": "stream",
     "text": [
      "2.11.0\n"
     ]
    }
   ],
   "source": [
    "# Install TensorFlow\n",
    "# !pip install -q tensorflow-gpu==2.0.0-beta1\n",
    "\n",
    "#try:\n",
    "#  %tensorflow_version 2.x  # Colab only.\n",
    "#except Exception:\n",
    "#  pass\n",
    "\n",
    "import tensorflow as tf\n",
    "print(tf.__version__)"
   ]
  },
  {
   "cell_type": "code",
   "execution_count": 2,
   "metadata": {
    "id": "cBJh6ib6MEIW"
   },
   "outputs": [],
   "source": [
    "# 更多輸入\n",
    "\n",
    "import numpy as np\n",
    "import matplotlib.pyplot as plt\n",
    "from tensorflow.keras.layers import Input, Conv2D, Dense, Flatten, Dropout\n",
    "from tensorflow.keras.models import Model"
   ]
  },
  {
   "cell_type": "code",
   "execution_count": 3,
   "metadata": {
    "colab": {
     "base_uri": "https://localhost:8080/",
     "height": 173
    },
    "id": "H_EGZv1TL4S_",
    "outputId": "462450de-9618-4113-92a5-c67364f218b4"
   },
   "outputs": [
    {
     "name": "stdout",
     "output_type": "stream",
     "text": [
      "x_train.shape: (60000, 28, 28)\n"
     ]
    }
   ],
   "source": [
    "# 載入影像\n",
    "fashion_mnist = tf.keras.datasets.fashion_mnist\n",
    "\n",
    "(x_train, y_train), (x_test, y_test) = fashion_mnist.load_data()\n",
    "x_train, x_test = x_train / 255.0, x_test / 255.0\n",
    "print(\"x_train.shape:\", x_train.shape)"
   ]
  },
  {
   "cell_type": "code",
   "execution_count": 4,
   "metadata": {
    "colab": {
     "base_uri": "https://localhost:8080/",
     "height": 34
    },
    "id": "1mqgWlIXNBfS",
    "outputId": "3b3cd22b-0175-4968-a5d5-332b02466b5c"
   },
   "outputs": [
    {
     "name": "stdout",
     "output_type": "stream",
     "text": [
      "(60000, 28, 28, 1)\n"
     ]
    }
   ],
   "source": [
    "# (28x28)乃 2D!\n",
    "# convolution 需要 height x width x color 我們得 expand_dims\n",
    "x_train = np.expand_dims(x_train, -1)\n",
    "x_test = np.expand_dims(x_test, -1)\n",
    "print(x_train.shape)"
   ]
  },
  {
   "cell_type": "code",
   "execution_count": 5,
   "metadata": {
    "colab": {
     "base_uri": "https://localhost:8080/",
     "height": 34
    },
    "id": "1Wr15bYpMwbB",
    "outputId": "52bcc03e-bdfe-4402-a5b8-c438755194e9"
   },
   "outputs": [
    {
     "name": "stdout",
     "output_type": "stream",
     "text": [
      "number of classes: 10\n"
     ]
    }
   ],
   "source": [
    "# 共有多少種物品\n",
    "K = len(set(y_train))\n",
    "print(\"number of classes:\", K)"
   ]
  },
  {
   "cell_type": "code",
   "execution_count": 6,
   "metadata": {
    "id": "Mmo66uQoMA1Q"
   },
   "outputs": [],
   "source": [
    "# 使用 函數式接口 functional API 建模\n",
    "\n",
    "  #以下是範例\n",
    "\n",
    "# i = Input(shape=x_train[0].shape)\n",
    "# x = Conv2D(32, (3, 3), strides=2, activation='relu')(i)\n",
    "# x = Conv2D(64, (3, 3), strides=2, activation='relu')(x)\n",
    "# x = Conv2D(128, (3, 3), strides=2, activation='relu')(x)\n",
    "# x = Flatten()(x)\n",
    "# x = Dropout(0.2)(x)\n",
    "# x = Dense(512, activation='relu')(x)\n",
    "# x = Dropout(0.2)(x)\n",
    "# x = Dense(K, activation='softmax')(x)\n",
    "\n",
    "# model = Model(i, x)"
   ]
  },
  {
   "cell_type": "code",
   "execution_count": 7,
   "metadata": {
    "id": "uxLPSqx4XxCQ"
   },
   "outputs": [],
   "source": [
    "# your improved model code here to replace the above one\n",
    "\n",
    "# use elu to replace relu and add a BatchNormalization layer.\n",
    "\n",
    "from tensorflow.keras.layers import BatchNormalization\n",
    "\n",
    "i = Input(shape=x_train[0].shape)\n",
    "#修改處\n",
    "x = Conv2D(32, (3, 3), strides=2, activation='elu')(i)\n",
    "x = Conv2D(64, (3, 3), strides=2, activation='elu')(x)\n",
    "x = Conv2D(128, (3, 3), strides=2, activation='relu')(x)\n",
    "x = BatchNormalization()(x)\n",
    "x = Flatten()(x)\n",
    "x = Dropout(0.2)(x)\n",
    "x = Dense(512, activation='elu')(x)\n",
    "x = Dropout(0.2)(x)\n",
    "x = Dense(K, activation='softmax')(x)\n",
    "\n",
    "model = Model(i, x)"
   ]
  },
  {
   "cell_type": "code",
   "execution_count": 8,
   "metadata": {
    "colab": {
     "base_uri": "https://localhost:8080/",
     "height": 536
    },
    "id": "0zF9n0P7NcP-",
    "outputId": "8c44be1a-e3bb-4c4c-fdf9-db0f5cd98ac8"
   },
   "outputs": [
    {
     "name": "stdout",
     "output_type": "stream",
     "text": [
      "Epoch 1/15\n",
      "1875/1875 [==============================] - 19s 9ms/step - loss: 0.5643 - accuracy: 0.7965 - val_loss: 0.4657 - val_accuracy: 0.8304\n",
      "Epoch 2/15\n",
      "1875/1875 [==============================] - 17s 9ms/step - loss: 0.4452 - accuracy: 0.8357 - val_loss: 0.4389 - val_accuracy: 0.8427\n",
      "Epoch 3/15\n",
      "1875/1875 [==============================] - 17s 9ms/step - loss: 0.4068 - accuracy: 0.8477 - val_loss: 0.4002 - val_accuracy: 0.8491\n",
      "Epoch 4/15\n",
      "1875/1875 [==============================] - 17s 9ms/step - loss: 0.3830 - accuracy: 0.8571 - val_loss: 0.3850 - val_accuracy: 0.8535\n",
      "Epoch 5/15\n",
      "1875/1875 [==============================] - 17s 9ms/step - loss: 0.3569 - accuracy: 0.8655 - val_loss: 0.4246 - val_accuracy: 0.8464\n",
      "Epoch 6/15\n",
      "1875/1875 [==============================] - 17s 9ms/step - loss: 0.3411 - accuracy: 0.8702 - val_loss: 0.3836 - val_accuracy: 0.8647\n",
      "Epoch 7/15\n",
      "1875/1875 [==============================] - 17s 9ms/step - loss: 0.3256 - accuracy: 0.8767 - val_loss: 0.3650 - val_accuracy: 0.8697\n",
      "Epoch 8/15\n",
      "1875/1875 [==============================] - 17s 9ms/step - loss: 0.3062 - accuracy: 0.8849 - val_loss: 0.3864 - val_accuracy: 0.8615\n",
      "Epoch 9/15\n",
      "1875/1875 [==============================] - 17s 9ms/step - loss: 0.2992 - accuracy: 0.8863 - val_loss: 0.3582 - val_accuracy: 0.8761\n",
      "Epoch 10/15\n",
      "1875/1875 [==============================] - 17s 9ms/step - loss: 0.2848 - accuracy: 0.8926 - val_loss: 0.3518 - val_accuracy: 0.8773\n",
      "Epoch 11/15\n",
      "1875/1875 [==============================] - 17s 9ms/step - loss: 0.2718 - accuracy: 0.8978 - val_loss: 0.3667 - val_accuracy: 0.8759\n",
      "Epoch 12/15\n",
      "1875/1875 [==============================] - 17s 9ms/step - loss: 0.2612 - accuracy: 0.9004 - val_loss: 0.3327 - val_accuracy: 0.8859\n",
      "Epoch 13/15\n",
      "1875/1875 [==============================] - 17s 9ms/step - loss: 0.2538 - accuracy: 0.9034 - val_loss: 0.3648 - val_accuracy: 0.8777\n",
      "Epoch 14/15\n",
      "1875/1875 [==============================] - 17s 9ms/step - loss: 0.2430 - accuracy: 0.9091 - val_loss: 0.3601 - val_accuracy: 0.8784\n",
      "Epoch 15/15\n",
      "1875/1875 [==============================] - 17s 9ms/step - loss: 0.2310 - accuracy: 0.9125 - val_loss: 0.3511 - val_accuracy: 0.8889\n"
     ]
    }
   ],
   "source": [
    "# 編譯與訓練\n",
    "# 請確認用GPU\n",
    "model.compile(optimizer='adam',\n",
    "              loss='sparse_categorical_crossentropy',\n",
    "              metrics=['accuracy'])\n",
    "r = model.fit(x_train, y_train, validation_data=(x_test, y_test), epochs=15)"
   ]
  },
  {
   "cell_type": "code",
   "execution_count": 9,
   "metadata": {
    "id": "yETJCcNRX3g-"
   },
   "outputs": [],
   "source": [
    "#your improved optimization code here to replace the above one"
   ]
  },
  {
   "cell_type": "code",
   "execution_count": 10,
   "metadata": {
    "colab": {
     "base_uri": "https://localhost:8080/",
     "height": 282
    },
    "id": "ML37hw4iOkBm",
    "outputId": "73597c53-9474-4c4f-cab6-b50b94e15c65"
   },
   "outputs": [
    {
     "data": {
      "text/plain": [
       "<matplotlib.legend.Legend at 0x21f0041d4f0>"
      ]
     },
     "execution_count": 10,
     "metadata": {},
     "output_type": "execute_result"
    },
    {
     "data": {
      "image/png": "[encoded data removed]",
      "text/plain": [
       "<Figure size 432x288 with 1 Axes>"
      ]
     },
     "metadata": {
      "needs_background": "light"
     },
     "output_type": "display_data"
    }
   ],
   "source": [
    "# 繪出迭代損失\n",
    "import matplotlib.pyplot as plt\n",
    "plt.plot(r.history['loss'], label='loss')\n",
    "plt.plot(r.history['val_loss'], label='val_loss')\n",
    "plt.legend()"
   ]
  },
  {
   "cell_type": "code",
   "execution_count": 11,
   "metadata": {
    "colab": {
     "base_uri": "https://localhost:8080/",
     "height": 282
    },
    "id": "pemstSDIOpIb",
    "outputId": "f4b81ede-b260-432e-bb01-1a292974cb94"
   },
   "outputs": [
    {
     "data": {
      "text/plain": [
       "<matplotlib.legend.Legend at 0x21f009759a0>"
      ]
     },
     "execution_count": 11,
     "metadata": {},
     "output_type": "execute_result"
    },
    {
     "data": {
      "image/png": "[encoded data removed]",
      "text/plain": [
       "<Figure size 432x288 with 1 Axes>"
      ]
     },
     "metadata": {
      "needs_background": "light"
     },
     "output_type": "display_data"
    }
   ],
   "source": [
    "# 繪出迭代精準度\n",
    "plt.plot(r.history['accuracy'], label='acc')\n",
    "plt.plot(r.history['val_accuracy'], label='val_acc')\n",
    "plt.legend()"
   ]
  },
  {
   "cell_type": "code",
   "execution_count": 12,
   "metadata": {
    "colab": {
     "base_uri": "https://localhost:8080/",
     "height": 501
    },
    "id": "2LJTd4OiO6kL",
    "outputId": "0c6ad86a-0610-467f-dec1-cc1bc43c3c06"
   },
   "outputs": [
    {
     "name": "stdout",
     "output_type": "stream",
     "text": [
      "313/313 [==============================] - 1s 3ms/step\n",
      "Confusion matrix, without normalization\n",
      "[[865   1  19  16   3   2  85   0   9   0]\n",
      " [  2 966   3  21   3   0   4   0   1   0]\n",
      " [ 31   2 843  10  57   0  55   0   2   0]\n",
      " [ 15   0  17 899  38   1  28   0   2   0]\n",
      " [  2   1  95  26 820   0  52   0   4   0]\n",
      " [  0   0   0   0   0 975   0  16   1   8]\n",
      " [115   0  80  23 133   0 641   0   8   0]\n",
      " [  0   0   0   0   0  19   0 955   0  26]\n",
      " [  4   0   8   5   4   1   7   4 967   0]\n",
      " [  0   0   0   0   0  10   1  31   0 958]]\n"
     ]
    },
    {
     "data": {
      "image/png": "[encoded data removed]",
      "text/plain": [
       "<Figure size 432x288 with 2 Axes>"
      ]
     },
     "metadata": {
      "needs_background": "light"
     },
     "output_type": "display_data"
    }
   ],
   "source": [
    "# 繪出混淆矩陣\n",
    "from sklearn.metrics import confusion_matrix\n",
    "import itertools\n",
    "\n",
    "def plot_confusion_matrix(cm, classes,\n",
    "                          normalize=False,\n",
    "                          title='Confusion matrix',\n",
    "                          cmap=plt.cm.Blues):\n",
    "  \"\"\"\n",
    "  This function prints and plots the confusion matrix.\n",
    "  Normalization can be applied by setting `normalize=True`.\n",
    "  \"\"\"\n",
    "  if normalize:\n",
    "      cm = cm.astype('float') / cm.sum(axis=1)[:, np.newaxis]\n",
    "      print(\"Normalized confusion matrix\")\n",
    "  else:\n",
    "      print('Confusion matrix, without normalization')\n",
    "\n",
    "  print(cm)\n",
    "\n",
    "  plt.imshow(cm, interpolation='nearest', cmap=cmap)\n",
    "  plt.title(title)\n",
    "  plt.colorbar()\n",
    "  tick_marks = np.arange(len(classes))\n",
    "  plt.xticks(tick_marks, classes, rotation=45)\n",
    "  plt.yticks(tick_marks, classes)\n",
    "\n",
    "  fmt = '.2f' if normalize else 'd'\n",
    "  thresh = cm.max() / 2.\n",
    "  for i, j in itertools.product(range(cm.shape[0]), range(cm.shape[1])):\n",
    "      plt.text(j, i, format(cm[i, j], fmt),\n",
    "               horizontalalignment=\"center\",\n",
    "               color=\"white\" if cm[i, j] > thresh else \"black\")\n",
    "\n",
    "  plt.tight_layout()\n",
    "  plt.ylabel('True label')\n",
    "  plt.xlabel('Predicted label')\n",
    "  plt.show()\n",
    "\n",
    "\n",
    "p_test = model.predict(x_test).argmax(axis=1)\n",
    "cm = confusion_matrix(y_test, p_test)\n",
    "plot_confusion_matrix(cm, list(range(10)))\n",
    "\n"
   ]
  },
  {
   "cell_type": "code",
   "execution_count": 13,
   "metadata": {
    "id": "4jiCbXEKYdTa"
   },
   "outputs": [],
   "source": [
    "# 映射標籤\n",
    "labels = '''T-shirt/top\n",
    "Trouser\n",
    "Pullover\n",
    "Dress\n",
    "Coat\n",
    "Sandal\n",
    "Shirt\n",
    "Sneaker\n",
    "Bag\n",
    "Ankle boot'''.split(\"\\n\")"
   ]
  },
  {
   "cell_type": "code",
   "execution_count": 14,
   "metadata": {
    "colab": {
     "base_uri": "https://localhost:8080/",
     "height": 281
    },
    "id": "jjmW4STFO-Ny",
    "outputId": "e1e37f27-3af1-4097-ab8a-a26b31e35f1d"
   },
   "outputs": [
    {
     "data": {
      "image/png": "[encoded data removed]",
      "text/plain": [
       "<Figure size 432x288 with 1 Axes>"
      ]
     },
     "metadata": {
      "needs_background": "light"
     },
     "output_type": "display_data"
    }
   ],
   "source": [
    "# 展示分類錯誤樣本\n",
    "misclassified_idx = np.where(p_test != y_test)[0]\n",
    "i = np.random.choice(misclassified_idx)\n",
    "plt.imshow(x_test[i].reshape(28,28), cmap='gray')\n",
    "plt.title(\"True label: %s Predicted: %s\" % (labels[y_test[i]], labels[p_test[i]]));"
   ]
  },
  {
   "cell_type": "code",
   "execution_count": null,
   "metadata": {},
   "outputs": [],
   "source": []
  }
 ],
 "metadata": {
  "accelerator": "GPU",
  "colab": {
   "collapsed_sections": [],
   "name": "Demo9_Fashion MNIST_實作練習.ipynb",
   "provenance": []
  },
  "kernelspec": {
   "display_name": "Python 3 (ipykernel)",
   "language": "python",
   "name": "python3"
  },
  "language_info": {
   "codemirror_mode": {
    "name": "ipython",
    "version": 3
   },
   "file_extension": ".py",
   "mimetype": "text/x-python",
   "name": "python",
   "nbconvert_exporter": "python",
   "pygments_lexer": "ipython3",
   "version": "3.9.12"
  }
 },
 "nbformat": 4,
 "nbformat_minor": 1
}
