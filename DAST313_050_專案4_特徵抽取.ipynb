{
 "cells": [
  {
   "cell_type": "markdown",
   "metadata": {},
   "source": [
    "# Use Lasso to do feature selection first and then do polynomial regression"
   ]
  },
  {
   "cell_type": "code",
   "execution_count": 3,
   "metadata": {},
   "outputs": [
    {
     "name": "stdout",
     "output_type": "stream",
     "text": [
      "X shape: (1599, 11)\n",
      "y shape: (1599,)\n",
      "Coefficients: [ 0.031408   -0.          0.          0.         -0.          0.00571672\n",
      " -0.00377281 -0.         -0.          0.          0.25583985]\n",
      "\n",
      "number of model 0_coef: 7\n",
      "number of model coef: 4\n"
     ]
    }
   ],
   "source": [
    "import numpy as np\n",
    "import pandas as pd\n",
    "from sklearn import datasets, linear_model\n",
    "from sklearn.metrics import mean_squared_error, r2_score\n",
    "from sklearn.model_selection import train_test_split\n",
    "\n",
    "df = pd.read_csv('winequality-red.csv')\n",
    "\n",
    "y = df['quality']\n",
    "X = df.drop(['quality'], axis=1)\n",
    "\n",
    "\n",
    "print(\"X shape: {}\".format(X.shape))\n",
    "print(\"y shape: {}\".format(y.shape))\n",
    "\n",
    "## 1. 建立Lasso模型(假設alpha=0.1)\n",
    "model = linear_model.Lasso(alpha=0.1)\n",
    "\n",
    "# Train the model using the training sets\n",
    "model.fit(X, y)\n",
    "\n",
    "# The coefficients\n",
    "print('Coefficients: {}\\n'.format(model.coef_))\n",
    "\n",
    "## 2. 顯示出有多少個係數為 0\n",
    "print('number of model 0_coef: {}'.format(np.sum(model.coef_ == 0)))\n",
    "print('number of model coef: {}'.format(np.sum(model.coef_ != 0)))"
   ]
  },
  {
   "cell_type": "code",
   "execution_count": 4,
   "metadata": {},
   "outputs": [
    {
     "name": "stdout",
     "output_type": "stream",
     "text": [
      "before feature extraction\n",
      "X shape: (1599, 11)\n",
      "   fixed acidity  volatile acidity  citric acid  residual sugar  chlorides  \\\n",
      "0            7.4              0.70         0.00             1.9      0.076   \n",
      "1            7.8              0.88         0.00             2.6      0.098   \n",
      "2            7.8              0.76         0.04             2.3      0.092   \n",
      "3           11.2              0.28         0.56             1.9      0.075   \n",
      "4            7.4              0.70         0.00             1.9      0.076   \n",
      "\n",
      "   free sulfur dioxide  total sulfur dioxide  density    pH  sulphates  \\\n",
      "0                 11.0                  34.0   0.9978  3.51       0.56   \n",
      "1                 25.0                  67.0   0.9968  3.20       0.68   \n",
      "2                 15.0                  54.0   0.9970  3.26       0.65   \n",
      "3                 17.0                  60.0   0.9980  3.16       0.58   \n",
      "4                 11.0                  34.0   0.9978  3.51       0.56   \n",
      "\n",
      "   alcohol  \n",
      "0      9.4  \n",
      "1      9.8  \n",
      "2      9.8  \n",
      "3      9.8  \n",
      "4      9.4  \n"
     ]
    }
   ],
   "source": [
    "print('before feature extraction\\nX shape: {}'.format(X.shape))\n",
    "print(X.head())"
   ]
  },
  {
   "cell_type": "code",
   "execution_count": 5,
   "metadata": {},
   "outputs": [
    {
     "name": "stdout",
     "output_type": "stream",
     "text": [
      "[ True False False False False  True  True False False False  True]\n",
      "after feature extraction\n",
      "X shape: (1599, 4)\n",
      "   fixed acidity  free sulfur dioxide  total sulfur dioxide  alcohol\n",
      "0            7.4                 11.0                  34.0      9.4\n",
      "1            7.8                 25.0                  67.0      9.8\n",
      "2            7.8                 15.0                  54.0      9.8\n",
      "3           11.2                 17.0                  60.0      9.8\n",
      "4            7.4                 11.0                  34.0      9.4\n"
     ]
    }
   ],
   "source": [
    "mask = model.coef_ != 0\n",
    "print(mask)\n",
    "\n",
    "## 3. 使用mask將係數為0對應的特徵剔除\n",
    "X = X.iloc[:,mask] \n",
    "\n",
    "print('after feature extraction\\nX shape: {}'.format(X.shape))\n",
    "print(X.head())"
   ]
  },
  {
   "cell_type": "code",
   "execution_count": 6,
   "metadata": {},
   "outputs": [
    {
     "name": "stdout",
     "output_type": "stream",
     "text": [
      "Coefficients: [ 0.          1.12085207 -0.43204477  0.80289019  0.24925916 -0.64598173\n",
      "  0.02024509 -0.63958558 -0.2003944  -0.1239072  -0.07734033  0.72422259\n",
      "  0.16450726 -0.46554536  0.17511712]\n",
      "\n",
      "Mean squared error: 0.4712614099778648\n",
      "R2 score: 0.22571593400246703\n"
     ]
    }
   ],
   "source": [
    "from sklearn import preprocessing\n",
    "from sklearn.preprocessing import PolynomialFeatures\n",
    "\n",
    "## 4. 將抽取過後的特徵做PolynomialFeatures提升維度(假設degree=2)\n",
    "poly = PolynomialFeatures(degree=2).fit(X)\n",
    "X_poly = poly.transform(X)\n",
    "\n",
    "\n",
    "X_train,X_test,y_train,y_test=train_test_split(X_poly, y, test_size=0.3, random_state=1) #random_state 種子值\n",
    "\n",
    "\n",
    "scaler = preprocessing.StandardScaler().fit(X_train)\n",
    "X_train = scaler.transform(X_train)\n",
    "\n",
    "\n",
    "model = linear_model.LinearRegression()\n",
    "model.fit(X_train, y_train)\n",
    "\n",
    "X_test = scaler.transform(X_test)\n",
    "y_pred = model.predict(X_test)\n",
    "\n",
    "# The coefficients\n",
    "print('Coefficients: {}\\n'.format(model.coef_))\n",
    "# The mean squared error\n",
    "print(\"Mean squared error: {}\".format(mean_squared_error(y_test, y_pred)))\n",
    "# Explained variance score: 1 is perfect prediction\n",
    "print('R2 score: {}'.format(r2_score(y_test, y_pred)))"
   ]
  },
  {
   "cell_type": "code",
   "execution_count": null,
   "metadata": {},
   "outputs": [],
   "source": []
  }
 ],
 "metadata": {
  "kernelspec": {
   "display_name": "Python 3 (ipykernel)",
   "language": "python",
   "name": "python3"
  },
  "language_info": {
   "codemirror_mode": {
    "name": "ipython",
    "version": 3
   },
   "file_extension": ".py",
   "mimetype": "text/x-python",
   "name": "python",
   "nbconvert_exporter": "python",
   "pygments_lexer": "ipython3",
   "version": "3.9.12"
  }
 },
 "nbformat": 4,
 "nbformat_minor": 4
}
