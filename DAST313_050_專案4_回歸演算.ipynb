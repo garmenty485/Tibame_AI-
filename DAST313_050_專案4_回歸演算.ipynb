{
 "cells": [
  {
   "cell_type": "markdown",
   "metadata": {},
   "source": [
    "# Polynomial Regression  \n",
    "dataset description: https://archive.ics.uci.edu/ml/datasets/wine+quality  "
   ]
  },
  {
   "cell_type": "code",
   "execution_count": 4,
   "metadata": {},
   "outputs": [
    {
     "name": "stdout",
     "output_type": "stream",
     "text": [
      "Coefficients: [-2.20439093e-11 -3.32036477e+01 -3.46762494e+01 -1.98569253e+01\n",
      " -1.40652656e+01 -6.85273381e+01 -7.74114997e+01  1.00727869e+02\n",
      " -2.50880009e+01 -7.93478035e+01  4.63945174e+01 -6.70038809e+00\n",
      " -1.07912073e+00 -4.28103408e-01 -1.80118094e-01 -5.27741073e-01\n",
      " -9.30638006e-01 -6.23191815e-01  5.34638897e-01  3.69394013e+01\n",
      " -1.63849368e+00  6.25798078e-01  6.86240624e-02 -1.07543978e-01\n",
      "  3.25708843e-02 -6.49414077e-02  2.15989372e-01 -5.66509424e-02\n",
      "  3.43575308e-01  3.51401508e+01 -1.05497188e+00 -2.55960941e-01\n",
      "  8.98178254e-01 -3.09937110e-02  9.34787505e-02  8.98840857e-02\n",
      "  1.48808583e-01 -3.20881226e-02  2.21970228e+01 -3.13608092e+00\n",
      " -3.12173913e-01  1.11046257e+00 -1.59627758e-01 -2.03532456e-01\n",
      "  3.43111110e-02 -6.51049711e-04  1.79109779e+01 -2.69409190e+00\n",
      "  1.29726359e-02 -3.65247752e-01  6.44755908e-02 -5.20131174e-02\n",
      " -1.18159029e-01  6.92374227e+01 -5.56852862e-01  1.09112468e-01\n",
      "  5.56498217e-01 -1.63840021e-01 -3.70231215e-02  7.79292790e+01\n",
      " -5.47020463e-01 -4.70828794e-01  1.29740195e+00  8.93119391e-02\n",
      " -1.01689650e+02  1.28353602e+00  4.09945512e-01 -1.61154603e+00\n",
      "  2.10910693e+01  8.08256509e+01 -4.72908479e+01  4.26542501e+00\n",
      " -2.92688018e+00  1.05074947e+00  2.71306226e+00 -3.52447248e-01\n",
      "  7.49136902e-02 -1.16178316e-01]\n",
      "\n",
      "Mean squared error: 0.43087855884499565\n",
      "R2 score: 0.29206509289752625\n"
     ]
    }
   ],
   "source": [
    "import numpy as np\n",
    "from sklearn.model_selection import train_test_split\n",
    "import pandas as pd\n",
    "from sklearn import linear_model\n",
    "from sklearn import preprocessing\n",
    "from sklearn.preprocessing import PolynomialFeatures\n",
    "from sklearn.metrics import mean_squared_error, r2_score\n",
    "\n",
    "## 1. 使用pandas讀取 winequality-red.csv\n",
    "df = pd.read_csv('winequality-red.csv')\n",
    "\n",
    "## 2.定義特徵向量X以及label y\n",
    "y = df['quality']\n",
    "X = df.drop('quality',axis=1)\n",
    "\n",
    "\n",
    "## 3.使用PolynomialFeatures將維度提高(假設degree=2)\n",
    "poly = PolynomialFeatures(degree=2).fit(X)\n",
    "X = poly.transform(X)\n",
    "\n",
    "\n",
    "X_train,X_test,y_train,y_test=train_test_split(X,y,test_size=0.3,random_state=1) #random_state 種子值\n",
    "\n",
    "\n",
    "## 4.標準化訓練資料\n",
    "scaler = preprocessing.StandardScaler().fit(X_train)\n",
    "X_train = scaler.transform(X_train)\n",
    "\n",
    "model = linear_model.LinearRegression()\n",
    "model.fit(X_train, y_train)\n",
    "\n",
    "## 5.標準化測試資料\n",
    "X_test = scaler.transform(X_test)\n",
    "y_pred = model.predict(X_test)\n",
    "\n",
    "# The coefficients\n",
    "print('Coefficients: {}\\n'.format(model.coef_))\n",
    "# The mean squared error\n",
    "print(\"Mean squared error: {}\".format(mean_squared_error(y_test, y_pred)))\n",
    "# Explained variance score: 1 is perfect prediction\n",
    "print('R2 score: {}'.format(r2_score(y_test, y_pred)))"
   ]
  }
 ],
 "metadata": {
  "kernelspec": {
   "display_name": "Python 3 (ipykernel)",
   "language": "python",
   "name": "python3"
  },
  "language_info": {
   "codemirror_mode": {
    "name": "ipython",
    "version": 3
   },
   "file_extension": ".py",
   "mimetype": "text/x-python",
   "name": "python",
   "nbconvert_exporter": "python",
   "pygments_lexer": "ipython3",
   "version": "3.9.12"
  }
 },
 "nbformat": 4,
 "nbformat_minor": 2
}
