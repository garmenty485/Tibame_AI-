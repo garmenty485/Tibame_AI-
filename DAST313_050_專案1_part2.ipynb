{
 "cells": [
  {
   "cell_type": "code",
   "execution_count": 1,
   "id": "historic-journal",
   "metadata": {},
   "outputs": [],
   "source": [
    "\n",
    "# import for database\n",
    "import sqlite3\n",
    "\n",
    "# connect to database\n",
    "connect = sqlite3.connect('game22.db')\n",
    "cursor = connect.cursor()"
   ]
  },
  {
   "cell_type": "code",
   "execution_count": 2,
   "id": "062b82cc",
   "metadata": {},
   "outputs": [],
   "source": [
    "def init_games():\n",
    "\n",
    "    # 建立資料表\n",
    "    cursor.execute(\"CREATE TABLE reservation \\\n",
    "                   (id integer primary key, \\\n",
    "                    game text, \\\n",
    "                    user_id text)\")\n",
    "    connect.commit()\n",
    "\n",
    "    # 填入遊戲\n",
    "    cursor.execute(\"INSERT INTO reservation (game) \\\n",
    "                    VALUES ('小瓦隆')\")\n",
    "    cursor.execute(\"INSERT INTO reservation (game) \\\n",
    "                    VALUES ('雨聲')\")\n",
    "    cursor.execute(\"INSERT INTO reservation (game) \\\n",
    "                    VALUES ('龍捲風')\")\n",
    "    connect.commit()\n",
    "\n"
   ]
  },
  {
   "cell_type": "code",
   "execution_count": 3,
   "id": "ec48715a",
   "metadata": {},
   "outputs": [],
   "source": [
    "def handle_msg(user_id, msg):\n",
    "\n",
    "    # implement reservation\n",
    "    if msg == '想看遊戲種類':\n",
    "        games = cursor.execute('SELECT * FROM reservation WHERE user_id IS NULL')\n",
    "        \n",
    "        ##1.用SQL查詢所有未被預約的遊戲\n",
    "        \n",
    "        game_text = '尚可預約遊戲：\\n'\n",
    "        for game in games:\n",
    "            game_text = game_text + game[1] + '\\n'\n",
    "        print(game_text)\n",
    "        \n",
    "    elif msg[0:3] == '想預約':\n",
    "        game_name = msg[3:]\n",
    "        games = cursor.execute('SELECT * FROM reservation')\n",
    "        ##2.取出所有遊戲，放到games變數裡面\n",
    "        found = False\n",
    "        for game in games:\n",
    "            if game[1] == game_name:\n",
    "                found = True\n",
    "                if game[2] is None:\n",
    "                    cursor.execute('UPDATE reservation \\\n",
    "                                    SET user_id = ? \\\n",
    "                                    WHERE game = ?',(user_id, game_name))\n",
    "                    connect.commit()\n",
    "\n",
    "                    ##3.將預約的遊戲 user_id設成此使用者\n",
    "                    print('已為您預約完成：' + game_name)\n",
    "                else:\n",
    "                    print('此遊戲已被預約！抱歉')\n",
    "        if found == False:\n",
    "            print('並沒有此款遊戲')\n",
    "        print('當前預約狀況:')    \n",
    "        for outcomes in cursor.execute('SELECT * FROM reservation'):\n",
    "            print(outcomes)\n",
    "            \n",
    "    elif msg == '想取消預約':\n",
    "        games = cursor.execute('SELECT * FROM reservation WHERE user_id = ?',(user_id,))\n",
    "        ##4.將所有此使用者預約之遊戲取出，放到games變數內\n",
    "        canceled_game_name = []\n",
    "        found = False\n",
    "        for game in games:\n",
    "            canceled_game_name.append(game[1])\n",
    "        for game in canceled_game_name:\n",
    "            cursor.execute('UPDATE reservation \\\n",
    "                            SET user_id = NULL \\\n",
    "                            WHERE game = ?',(game,))\n",
    "            connect.commit()\n",
    "\n",
    "            ## 將此遊戲user_id設回None\n",
    "            found =  True\n",
    "        if found == True:\n",
    "            print('已為您取消預約')\n",
    "            \n",
    "    else:\n",
    "        print('您好！\\n請問需要什麼樣的服務？')\n",
    "\n",
    "\n"
   ]
  },
  {
   "cell_type": "code",
   "execution_count": 4,
   "id": "90def0c6",
   "metadata": {},
   "outputs": [],
   "source": [
    "init_games()"
   ]
  },
  {
   "cell_type": "code",
   "execution_count": 5,
   "id": "a1d91ae9",
   "metadata": {
    "scrolled": true
   },
   "outputs": [
    {
     "name": "stdout",
     "output_type": "stream",
     "text": [
      "輸入預約者姓名：皮卡丘\n",
      "請問需要什麼樣的服務？想預約小瓦隆\n",
      "已為您預約完成：小瓦隆\n",
      "當前預約狀況:\n",
      "(1, '小瓦隆', '皮卡丘')\n",
      "(2, '雨聲', None)\n",
      "(3, '龍捲風', None)\n",
      "請問需要什麼樣的服務？結束\n",
      "輸入預約者姓名：小智\n",
      "請問需要什麼樣的服務？想預約龍捲風\n",
      "已為您預約完成：龍捲風\n",
      "當前預約狀況:\n",
      "(1, '小瓦隆', '皮卡丘')\n",
      "(2, '雨聲', None)\n",
      "(3, '龍捲風', '小智')\n",
      "請問需要什麼樣的服務？想取消預約\n",
      "已為您取消預約\n",
      "請問需要什麼樣的服務？想預約雨聲\n",
      "已為您預約完成：雨聲\n",
      "當前預約狀況:\n",
      "(1, '小瓦隆', '皮卡丘')\n",
      "(2, '雨聲', '小智')\n",
      "(3, '龍捲風', None)\n",
      "請問需要什麼樣的服務？結束\n",
      "輸入預約者姓名：結束\n"
     ]
    }
   ],
   "source": [
    "'''  -------------------------------\n",
    "              主程式\n",
    "-------------------------------- '''\n",
    "\n",
    "while True:\n",
    "    user_id = input('輸入預約者姓名：')\n",
    "    if user_id == '結束':\n",
    "        break\n",
    "\n",
    "    while True:\n",
    "        msg = input('請問需要什麼樣的服務？')\n",
    "        if msg == '結束':\n",
    "            break\n",
    "        handle_msg(user_id, msg)"
   ]
  }
 ],
 "metadata": {
  "kernelspec": {
   "display_name": "Python 3 (ipykernel)",
   "language": "python",
   "name": "python3"
  },
  "language_info": {
   "codemirror_mode": {
    "name": "ipython",
    "version": 3
   },
   "file_extension": ".py",
   "mimetype": "text/x-python",
   "name": "python",
   "nbconvert_exporter": "python",
   "pygments_lexer": "ipython3",
   "version": "3.9.12"
  }
 },
 "nbformat": 4,
 "nbformat_minor": 5
}
