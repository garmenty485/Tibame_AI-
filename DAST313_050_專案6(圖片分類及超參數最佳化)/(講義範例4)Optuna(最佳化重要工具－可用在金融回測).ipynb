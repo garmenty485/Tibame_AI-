{
  "nbformat": 4,
  "nbformat_minor": 0,
  "metadata": {
    "colab": {
      "provenance": []
    },
    "kernelspec": {
      "name": "python3",
      "display_name": "Python 3"
    },
    "language_info": {
      "name": "python"
    }
  },
  "cells": [
    {
      "cell_type": "markdown",
      "metadata": {
        "id": "8WgO1m8xqAuI"
      },
      "source": [
        "**Basic steps to set up Optuna:**\n",
        "\n",
        "Define the objective function that calculates the minimization/maximization target.\n",
        "\n",
        "Inside the objective function, set the hyperparameters to be optimized with suggest methods.\n",
        "\n",
        "Instantiate the study object.\n",
        "\n",
        "Start the optimization with study.optimize, specifying the number of trials with n_trials.\n",
        "\n"
      ]
    },
    {
      "cell_type": "code",
      "metadata": {
        "colab": {
          "base_uri": "https://localhost:8080/"
        },
        "id": "jAnr8O6PpqWy",
        "outputId": "1a9b5e8f-f48f-40b9-b23e-58cec45cccdc"
      },
      "source": [
        "!pip install optuna"
      ],
      "execution_count": null,
      "outputs": [
        {
          "output_type": "stream",
          "text": [
            "Collecting optuna\n",
            "\u001b[?25l  Downloading https://files.pythonhosted.org/packages/2b/21/d13081805e1e1afc71f5bb743ece324c8bd576237c51b899ecb38a717502/optuna-2.7.0-py3-none-any.whl (293kB)\n",
            "\u001b[K     |████████████████████████████████| 296kB 20.1MB/s \n",
            "\u001b[?25hCollecting alembic\n",
            "\u001b[?25l  Downloading https://files.pythonhosted.org/packages/72/a4/97eb6273839655cac14947986fa7a5935350fcfd4fff872e9654264c82d8/alembic-1.5.8-py2.py3-none-any.whl (159kB)\n",
            "\u001b[K     |████████████████████████████████| 163kB 36.6MB/s \n",
            "\u001b[?25hRequirement already satisfied: scipy!=1.4.0 in /usr/local/lib/python3.7/dist-packages (from optuna) (1.4.1)\n",
            "Collecting colorlog\n",
            "  Downloading https://files.pythonhosted.org/packages/51/62/61449c6bb74c2a3953c415b2cdb488e4f0518ac67b35e2b03a6d543035ca/colorlog-4.8.0-py2.py3-none-any.whl\n",
            "Requirement already satisfied: tqdm in /usr/local/lib/python3.7/dist-packages (from optuna) (4.41.1)\n",
            "Requirement already satisfied: numpy in /usr/local/lib/python3.7/dist-packages (from optuna) (1.19.5)\n",
            "Requirement already satisfied: sqlalchemy>=1.1.0 in /usr/local/lib/python3.7/dist-packages (from optuna) (1.4.3)\n",
            "Collecting cmaes>=0.8.2\n",
            "  Downloading https://files.pythonhosted.org/packages/01/1f/43b01223a0366171f474320c6e966c39a11587287f098a5f09809b45e05f/cmaes-0.8.2-py3-none-any.whl\n",
            "Requirement already satisfied: packaging>=20.0 in /usr/local/lib/python3.7/dist-packages (from optuna) (20.9)\n",
            "Collecting cliff\n",
            "\u001b[?25l  Downloading https://files.pythonhosted.org/packages/a2/d6/7d9acb68a77acd140be7fececb7f2701b2a29d2da9c54184cb8f93509590/cliff-3.7.0-py3-none-any.whl (80kB)\n",
            "\u001b[K     |████████████████████████████████| 81kB 8.8MB/s \n",
            "\u001b[?25hRequirement already satisfied: python-dateutil in /usr/local/lib/python3.7/dist-packages (from alembic->optuna) (2.8.1)\n",
            "Collecting python-editor>=0.3\n",
            "  Downloading https://files.pythonhosted.org/packages/c6/d3/201fc3abe391bbae6606e6f1d598c15d367033332bd54352b12f35513717/python_editor-1.0.4-py3-none-any.whl\n",
            "Collecting Mako\n",
            "\u001b[?25l  Downloading https://files.pythonhosted.org/packages/f3/54/dbc07fbb20865d3b78fdb7cf7fa713e2cba4f87f71100074ef2dc9f9d1f7/Mako-1.1.4-py2.py3-none-any.whl (75kB)\n",
            "\u001b[K     |████████████████████████████████| 81kB 8.2MB/s \n",
            "\u001b[?25hRequirement already satisfied: importlib-metadata; python_version < \"3.8\" in /usr/local/lib/python3.7/dist-packages (from sqlalchemy>=1.1.0->optuna) (3.8.1)\n",
            "Requirement already satisfied: greenlet!=0.4.17; python_version >= \"3\" in /usr/local/lib/python3.7/dist-packages (from sqlalchemy>=1.1.0->optuna) (1.0.0)\n",
            "Requirement already satisfied: pyparsing>=2.0.2 in /usr/local/lib/python3.7/dist-packages (from packaging>=20.0->optuna) (2.4.7)\n",
            "Collecting pbr!=2.1.0,>=2.0.0\n",
            "\u001b[?25l  Downloading https://files.pythonhosted.org/packages/fb/48/69046506f6ac61c1eaa9a0d42d22d54673b69e176d30ca98e3f61513e980/pbr-5.5.1-py2.py3-none-any.whl (106kB)\n",
            "\u001b[K     |████████████████████████████████| 112kB 39.3MB/s \n",
            "\u001b[?25hRequirement already satisfied: PrettyTable>=0.7.2 in /usr/local/lib/python3.7/dist-packages (from cliff->optuna) (2.1.0)\n",
            "Requirement already satisfied: PyYAML>=3.12 in /usr/local/lib/python3.7/dist-packages (from cliff->optuna) (3.13)\n",
            "Collecting cmd2>=1.0.0\n",
            "\u001b[?25l  Downloading https://files.pythonhosted.org/packages/15/8b/15061b32332bb35ea2a2f6263d0f616779d576e82739ec8e7fcf3c94abf5/cmd2-1.5.0-py3-none-any.whl (133kB)\n",
            "\u001b[K     |████████████████████████████████| 143kB 40.0MB/s \n",
            "\u001b[?25hCollecting stevedore>=2.0.1\n",
            "\u001b[?25l  Downloading https://files.pythonhosted.org/packages/d4/49/b602307aeac3df3384ff1fcd05da9c0376c622a6c48bb5325f28ab165b57/stevedore-3.3.0-py3-none-any.whl (49kB)\n",
            "\u001b[K     |████████████████████████████████| 51kB 5.8MB/s \n",
            "\u001b[?25hRequirement already satisfied: six>=1.5 in /usr/local/lib/python3.7/dist-packages (from python-dateutil->alembic->optuna) (1.15.0)\n",
            "Requirement already satisfied: MarkupSafe>=0.9.2 in /usr/local/lib/python3.7/dist-packages (from Mako->alembic->optuna) (1.1.1)\n",
            "Requirement already satisfied: zipp>=0.5 in /usr/local/lib/python3.7/dist-packages (from importlib-metadata; python_version < \"3.8\"->sqlalchemy>=1.1.0->optuna) (3.4.1)\n",
            "Requirement already satisfied: typing-extensions>=3.6.4; python_version < \"3.8\" in /usr/local/lib/python3.7/dist-packages (from importlib-metadata; python_version < \"3.8\"->sqlalchemy>=1.1.0->optuna) (3.7.4.3)\n",
            "Requirement already satisfied: wcwidth in /usr/local/lib/python3.7/dist-packages (from PrettyTable>=0.7.2->cliff->optuna) (0.2.5)\n",
            "Collecting colorama>=0.3.7\n",
            "  Downloading https://files.pythonhosted.org/packages/44/98/5b86278fbbf250d239ae0ecb724f8572af1c91f4a11edf4d36a206189440/colorama-0.4.4-py2.py3-none-any.whl\n",
            "Collecting pyperclip>=1.6\n",
            "  Downloading https://files.pythonhosted.org/packages/a7/2c/4c64579f847bd5d539803c8b909e54ba087a79d01bb3aba433a95879a6c5/pyperclip-1.8.2.tar.gz\n",
            "Requirement already satisfied: attrs>=16.3.0 in /usr/local/lib/python3.7/dist-packages (from cmd2>=1.0.0->cliff->optuna) (20.3.0)\n",
            "Building wheels for collected packages: pyperclip\n",
            "  Building wheel for pyperclip (setup.py) ... \u001b[?25l\u001b[?25hdone\n",
            "  Created wheel for pyperclip: filename=pyperclip-1.8.2-cp37-none-any.whl size=11107 sha256=d40d6b4672928e75011e7b297f8502d080ce36fbf288c2de64f4ed55d5840ac7\n",
            "  Stored in directory: /root/.cache/pip/wheels/25/af/b8/3407109267803f4015e1ee2ff23be0c8c19ce4008665931ee1\n",
            "Successfully built pyperclip\n",
            "Installing collected packages: python-editor, Mako, alembic, colorlog, cmaes, pbr, colorama, pyperclip, cmd2, stevedore, cliff, optuna\n",
            "Successfully installed Mako-1.1.4 alembic-1.5.8 cliff-3.7.0 cmaes-0.8.2 cmd2-1.5.0 colorama-0.4.4 colorlog-4.8.0 optuna-2.7.0 pbr-5.5.1 pyperclip-1.8.2 python-editor-1.0.4 stevedore-3.3.0\n"
          ],
          "name": "stdout"
        }
      ]
    },
    {
      "cell_type": "code",
      "metadata": {
        "colab": {
          "base_uri": "https://localhost:8080/"
        },
        "id": "-3JEoyAOpkgZ",
        "outputId": "7dcd6b57-6efb-49bd-d9fb-80c49624042e"
      },
      "source": [
        "import optuna  \n",
        "\n",
        "def objective(trial):\n",
        "    x = trial.suggest_uniform('x', -100, 100)\n",
        "    return (x - 2) ** 2\n",
        "\n",
        "study = optuna.create_study(direction='minimize')\n",
        "study.optimize(objective, n_trials=100)\n",
        "\n",
        "print('Minimum objective value: ' + str(study.best_value))\n",
        "print('Best parameter: ' + str(study.best_params))"
      ],
      "execution_count": null,
      "outputs": [
        {
          "output_type": "stream",
          "text": [
            "\u001b[32m[I 2021-04-10 12:02:29,635]\u001b[0m A new study created in memory with name: no-name-575769e1-ec76-4cde-a4c6-28eb36259230\u001b[0m\n",
            "\u001b[32m[I 2021-04-10 12:02:29,638]\u001b[0m Trial 0 finished with value: 0.029318881082503606 and parameters: {'x': 2.1712275710348763}. Best is trial 0 with value: 0.029318881082503606.\u001b[0m\n",
            "\u001b[32m[I 2021-04-10 12:02:29,649]\u001b[0m Trial 1 finished with value: 1314.7397097976166 and parameters: {'x': 38.25933962164254}. Best is trial 0 with value: 0.029318881082503606.\u001b[0m\n",
            "\u001b[32m[I 2021-04-10 12:02:29,651]\u001b[0m Trial 2 finished with value: 1073.006793957697 and parameters: {'x': -30.756782411551}. Best is trial 0 with value: 0.029318881082503606.\u001b[0m\n",
            "\u001b[32m[I 2021-04-10 12:02:29,659]\u001b[0m Trial 3 finished with value: 53.119850366946224 and parameters: {'x': -5.288336598082324}. Best is trial 0 with value: 0.029318881082503606.\u001b[0m\n",
            "\u001b[32m[I 2021-04-10 12:02:29,661]\u001b[0m Trial 4 finished with value: 1774.373511679449 and parameters: {'x': 44.123313161234705}. Best is trial 0 with value: 0.029318881082503606.\u001b[0m\n",
            "\u001b[32m[I 2021-04-10 12:02:29,668]\u001b[0m Trial 5 finished with value: 8726.881034383117 and parameters: {'x': 95.41777686491537}. Best is trial 0 with value: 0.029318881082503606.\u001b[0m\n",
            "\u001b[32m[I 2021-04-10 12:02:29,672]\u001b[0m Trial 6 finished with value: 7.397961670243606 and parameters: {'x': 4.7199194234836455}. Best is trial 0 with value: 0.029318881082503606.\u001b[0m\n",
            "\u001b[32m[I 2021-04-10 12:02:29,679]\u001b[0m Trial 7 finished with value: 786.4513317174406 and parameters: {'x': -26.043739617202277}. Best is trial 0 with value: 0.029318881082503606.\u001b[0m\n",
            "\u001b[32m[I 2021-04-10 12:02:29,681]\u001b[0m Trial 8 finished with value: 3735.3277132450216 and parameters: {'x': 63.11732743866523}. Best is trial 0 with value: 0.029318881082503606.\u001b[0m\n",
            "\u001b[32m[I 2021-04-10 12:02:29,684]\u001b[0m Trial 9 finished with value: 80.2650576975243 and parameters: {'x': -6.959076832884307}. Best is trial 0 with value: 0.029318881082503606.\u001b[0m\n",
            "\u001b[32m[I 2021-04-10 12:02:29,699]\u001b[0m Trial 10 finished with value: 8410.471063409876 and parameters: {'x': -89.70862044219112}. Best is trial 0 with value: 0.029318881082503606.\u001b[0m\n",
            "\u001b[32m[I 2021-04-10 12:02:29,703]\u001b[0m Trial 11 finished with value: 4366.599188341105 and parameters: {'x': -64.0802480953356}. Best is trial 0 with value: 0.029318881082503606.\u001b[0m\n",
            "\u001b[32m[I 2021-04-10 12:02:29,710]\u001b[0m Trial 12 finished with value: 581.2600980211241 and parameters: {'x': 26.10933632477518}. Best is trial 0 with value: 0.029318881082503606.\u001b[0m\n",
            "\u001b[32m[I 2021-04-10 12:02:29,717]\u001b[0m Trial 13 finished with value: 2379.531449881412 and parameters: {'x': -46.78044126370129}. Best is trial 0 with value: 0.029318881082503606.\u001b[0m\n",
            "\u001b[32m[I 2021-04-10 12:02:29,724]\u001b[0m Trial 14 finished with value: 293.14996440791737 and parameters: {'x': 19.121622715382948}. Best is trial 0 with value: 0.029318881082503606.\u001b[0m\n",
            "\u001b[32m[I 2021-04-10 12:02:29,731]\u001b[0m Trial 15 finished with value: 5715.4344111708915 and parameters: {'x': 77.60049213577179}. Best is trial 0 with value: 0.029318881082503606.\u001b[0m\n",
            "\u001b[32m[I 2021-04-10 12:02:29,736]\u001b[0m Trial 16 finished with value: 55.85812372918242 and parameters: {'x': 9.473829254751704}. Best is trial 0 with value: 0.029318881082503606.\u001b[0m\n",
            "\u001b[32m[I 2021-04-10 12:02:29,746]\u001b[0m Trial 17 finished with value: 488.9778250289594 and parameters: {'x': -20.112842988384813}. Best is trial 0 with value: 0.029318881082503606.\u001b[0m\n",
            "\u001b[32m[I 2021-04-10 12:02:29,750]\u001b[0m Trial 18 finished with value: 3610.9812768173238 and parameters: {'x': -58.09144096139919}. Best is trial 0 with value: 0.029318881082503606.\u001b[0m\n",
            "\u001b[32m[I 2021-04-10 12:02:29,757]\u001b[0m Trial 19 finished with value: 2390.8980196411367 and parameters: {'x': 50.89680991272474}. Best is trial 0 with value: 0.029318881082503606.\u001b[0m\n",
            "\u001b[32m[I 2021-04-10 12:02:29,766]\u001b[0m Trial 20 finished with value: 12.409119625525863 and parameters: {'x': 5.522658034144936}. Best is trial 0 with value: 0.029318881082503606.\u001b[0m\n",
            "\u001b[32m[I 2021-04-10 12:02:29,773]\u001b[0m Trial 21 finished with value: 5.159583459834925 and parameters: {'x': 4.271471650678239}. Best is trial 0 with value: 0.029318881082503606.\u001b[0m\n",
            "\u001b[32m[I 2021-04-10 12:02:29,777]\u001b[0m Trial 22 finished with value: 469.30814839098645 and parameters: {'x': 23.663521144795148}. Best is trial 0 with value: 0.029318881082503606.\u001b[0m\n",
            "\u001b[32m[I 2021-04-10 12:02:29,789]\u001b[0m Trial 23 finished with value: 222.72494741359745 and parameters: {'x': -12.923972239775757}. Best is trial 0 with value: 0.029318881082503606.\u001b[0m\n",
            "\u001b[32m[I 2021-04-10 12:02:29,796]\u001b[0m Trial 24 finished with value: 1561.651833598727 and parameters: {'x': -37.51774074512265}. Best is trial 0 with value: 0.029318881082503606.\u001b[0m\n",
            "\u001b[32m[I 2021-04-10 12:02:29,803]\u001b[0m Trial 25 finished with value: 22.83876327442093 and parameters: {'x': 6.77899186800113}. Best is trial 0 with value: 0.029318881082503606.\u001b[0m\n",
            "\u001b[32m[I 2021-04-10 12:02:29,815]\u001b[0m Trial 26 finished with value: 837.9466580467739 and parameters: {'x': 30.947308303999076}. Best is trial 0 with value: 0.029318881082503606.\u001b[0m\n",
            "\u001b[32m[I 2021-04-10 12:02:29,823]\u001b[0m Trial 27 finished with value: 117.86598035781118 and parameters: {'x': 12.856609984604365}. Best is trial 0 with value: 0.029318881082503606.\u001b[0m\n",
            "\u001b[32m[I 2021-04-10 12:02:29,835]\u001b[0m Trial 28 finished with value: 2794.267617712127 and parameters: {'x': 54.86083254842026}. Best is trial 0 with value: 0.029318881082503606.\u001b[0m\n",
            "\u001b[32m[I 2021-04-10 12:02:29,841]\u001b[0m Trial 29 finished with value: 929.153303901636 and parameters: {'x': 32.48201607344298}. Best is trial 0 with value: 0.029318881082503606.\u001b[0m\n",
            "\u001b[32m[I 2021-04-10 12:02:29,858]\u001b[0m Trial 30 finished with value: 306.29016455929695 and parameters: {'x': -15.50114752121406}. Best is trial 0 with value: 0.029318881082503606.\u001b[0m\n",
            "\u001b[32m[I 2021-04-10 12:02:29,867]\u001b[0m Trial 31 finished with value: 3.6235097630330437 and parameters: {'x': 0.09644811916432294}. Best is trial 0 with value: 0.029318881082503606.\u001b[0m\n",
            "\u001b[32m[I 2021-04-10 12:02:29,873]\u001b[0m Trial 32 finished with value: 4.895429472435846 and parameters: {'x': -0.21256174432169134}. Best is trial 0 with value: 0.029318881082503606.\u001b[0m\n",
            "\u001b[32m[I 2021-04-10 12:02:29,886]\u001b[0m Trial 33 finished with value: 1197.3521317499835 and parameters: {'x': -32.60277635898576}. Best is trial 0 with value: 0.029318881082503606.\u001b[0m\n",
            "\u001b[32m[I 2021-04-10 12:02:29,901]\u001b[0m Trial 34 finished with value: 48.718499857037784 and parameters: {'x': -4.9798638852801265}. Best is trial 0 with value: 0.029318881082503606.\u001b[0m\n",
            "\u001b[32m[I 2021-04-10 12:02:29,906]\u001b[0m Trial 35 finished with value: 103.06524615908761 and parameters: {'x': -8.152105503740966}. Best is trial 0 with value: 0.029318881082503606.\u001b[0m\n",
            "\u001b[32m[I 2021-04-10 12:02:29,918]\u001b[0m Trial 36 finished with value: 174.2154612294383 and parameters: {'x': 15.199070468386715}. Best is trial 0 with value: 0.029318881082503606.\u001b[0m\n",
            "\u001b[32m[I 2021-04-10 12:02:29,923]\u001b[0m Trial 37 finished with value: 1575.9605163298152 and parameters: {'x': 41.69836918980193}. Best is trial 0 with value: 0.029318881082503606.\u001b[0m\n",
            "\u001b[32m[I 2021-04-10 12:02:29,935]\u001b[0m Trial 38 finished with value: 522.0244630620904 and parameters: {'x': -20.84785467088957}. Best is trial 0 with value: 0.029318881082503606.\u001b[0m\n",
            "\u001b[32m[I 2021-04-10 12:02:29,940]\u001b[0m Trial 39 finished with value: 13.236743499270013 and parameters: {'x': -1.6382335685425713}. Best is trial 0 with value: 0.029318881082503606.\u001b[0m\n",
            "\u001b[32m[I 2021-04-10 12:02:29,947]\u001b[0m Trial 40 finished with value: 1432.0833325604149 and parameters: {'x': -35.84287690649873}. Best is trial 0 with value: 0.029318881082503606.\u001b[0m\n",
            "\u001b[32m[I 2021-04-10 12:02:29,956]\u001b[0m Trial 41 finished with value: 2.9717125131416973 and parameters: {'x': 0.27613442718357617}. Best is trial 0 with value: 0.029318881082503606.\u001b[0m\n",
            "\u001b[32m[I 2021-04-10 12:02:29,965]\u001b[0m Trial 42 finished with value: 9.577337369984567 and parameters: {'x': -1.0947273498621115}. Best is trial 0 with value: 0.029318881082503606.\u001b[0m\n",
            "\u001b[32m[I 2021-04-10 12:02:29,973]\u001b[0m Trial 43 finished with value: 750.4249716779311 and parameters: {'x': -25.39388566227747}. Best is trial 0 with value: 0.029318881082503606.\u001b[0m\n",
            "\u001b[32m[I 2021-04-10 12:02:29,980]\u001b[0m Trial 44 finished with value: 291.44004723854067 and parameters: {'x': 19.07161524983915}. Best is trial 0 with value: 0.029318881082503606.\u001b[0m\n",
            "\u001b[32m[I 2021-04-10 12:02:29,988]\u001b[0m Trial 45 finished with value: 0.0026187341397412027 and parameters: {'x': 1.948826431238957}. Best is trial 45 with value: 0.0026187341397412027.\u001b[0m\n",
            "\u001b[32m[I 2021-04-10 12:02:29,993]\u001b[0m Trial 46 finished with value: 2234.3361616796615 and parameters: {'x': -45.26876518039858}. Best is trial 45 with value: 0.0026187341397412027.\u001b[0m\n",
            "\u001b[32m[I 2021-04-10 12:02:30,003]\u001b[0m Trial 47 finished with value: 165.4951949849821 and parameters: {'x': -10.864493576701031}. Best is trial 45 with value: 0.0026187341397412027.\u001b[0m\n",
            "\u001b[32m[I 2021-04-10 12:02:30,007]\u001b[0m Trial 48 finished with value: 633.8015855964086 and parameters: {'x': 27.17541629440134}. Best is trial 45 with value: 0.0026187341397412027.\u001b[0m\n",
            "\u001b[32m[I 2021-04-10 12:02:30,013]\u001b[0m Trial 49 finished with value: 6.727119239736708 and parameters: {'x': -0.593669069048075}. Best is trial 45 with value: 0.0026187341397412027.\u001b[0m\n",
            "\u001b[32m[I 2021-04-10 12:02:30,019]\u001b[0m Trial 50 finished with value: 1208.6721833282263 and parameters: {'x': 36.76596300015615}. Best is trial 45 with value: 0.0026187341397412027.\u001b[0m\n",
            "\u001b[32m[I 2021-04-10 12:02:30,032]\u001b[0m Trial 51 finished with value: 46.73216514907256 and parameters: {'x': 8.836092827710326}. Best is trial 45 with value: 0.0026187341397412027.\u001b[0m\n",
            "\u001b[32m[I 2021-04-10 12:02:30,037]\u001b[0m Trial 52 finished with value: 0.15000069189443824 and parameters: {'x': 2.3872992278515905}. Best is trial 45 with value: 0.0026187341397412027.\u001b[0m\n",
            "\u001b[32m[I 2021-04-10 12:02:30,046]\u001b[0m Trial 53 finished with value: 303.12638920272065 and parameters: {'x': 19.41052524201153}. Best is trial 45 with value: 0.0026187341397412027.\u001b[0m\n",
            "\u001b[32m[I 2021-04-10 12:02:30,050]\u001b[0m Trial 54 finished with value: 446.8512735226455 and parameters: {'x': -19.1388569587536}. Best is trial 45 with value: 0.0026187341397412027.\u001b[0m\n",
            "\u001b[32m[I 2021-04-10 12:02:30,060]\u001b[0m Trial 55 finished with value: 808.3595233187297 and parameters: {'x': -26.431664096896082}. Best is trial 45 with value: 0.0026187341397412027.\u001b[0m\n",
            "\u001b[32m[I 2021-04-10 12:02:30,067]\u001b[0m Trial 56 finished with value: 126.67654753612992 and parameters: {'x': -9.255067638007775}. Best is trial 45 with value: 0.0026187341397412027.\u001b[0m\n",
            "\u001b[32m[I 2021-04-10 12:02:30,072]\u001b[0m Trial 57 finished with value: 3.9869779177025837 and parameters: {'x': 3.9967418255003784}. Best is trial 45 with value: 0.0026187341397412027.\u001b[0m\n",
            "\u001b[32m[I 2021-04-10 12:02:30,082]\u001b[0m Trial 58 finished with value: 148.3547147824441 and parameters: {'x': 14.180095023539188}. Best is trial 45 with value: 0.0026187341397412027.\u001b[0m\n",
            "\u001b[32m[I 2021-04-10 12:02:30,089]\u001b[0m Trial 59 finished with value: 5.641083659234638 and parameters: {'x': 4.375096557876045}. Best is trial 45 with value: 0.0026187341397412027.\u001b[0m\n",
            "\u001b[32m[I 2021-04-10 12:02:30,102]\u001b[0m Trial 60 finished with value: 9285.815916004412 and parameters: {'x': -94.36293849818203}. Best is trial 45 with value: 0.0026187341397412027.\u001b[0m\n",
            "\u001b[32m[I 2021-04-10 12:02:30,109]\u001b[0m Trial 61 finished with value: 1.028916245672586 and parameters: {'x': 0.9856449114473838}. Best is trial 45 with value: 0.0026187341397412027.\u001b[0m\n",
            "\u001b[32m[I 2021-04-10 12:02:30,114]\u001b[0m Trial 62 finished with value: 272.00126064042354 and parameters: {'x': -14.492460721202992}. Best is trial 45 with value: 0.0026187341397412027.\u001b[0m\n",
            "\u001b[32m[I 2021-04-10 12:02:30,123]\u001b[0m Trial 63 finished with value: 405.5305140873632 and parameters: {'x': 22.13778821239719}. Best is trial 45 with value: 0.0026187341397412027.\u001b[0m\n",
            "\u001b[32m[I 2021-04-10 12:02:30,131]\u001b[0m Trial 64 finished with value: 67.37182826524543 and parameters: {'x': 10.208034372810912}. Best is trial 45 with value: 0.0026187341397412027.\u001b[0m\n",
            "\u001b[32m[I 2021-04-10 12:02:30,136]\u001b[0m Trial 65 finished with value: 71.80409938760236 and parameters: {'x': -6.473729957203166}. Best is trial 45 with value: 0.0026187341397412027.\u001b[0m\n",
            "\u001b[32m[I 2021-04-10 12:02:30,145]\u001b[0m Trial 66 finished with value: 4.297715372163523 and parameters: {'x': 4.073093189454715}. Best is trial 45 with value: 0.0026187341397412027.\u001b[0m\n",
            "\u001b[32m[I 2021-04-10 12:02:30,150]\u001b[0m Trial 67 finished with value: 733.3435443110922 and parameters: {'x': 29.080316547468424}. Best is trial 45 with value: 0.0026187341397412027.\u001b[0m\n",
            "\u001b[32m[I 2021-04-10 12:02:30,158]\u001b[0m Trial 68 finished with value: 163.27735204926836 and parameters: {'x': 14.778002662750872}. Best is trial 45 with value: 0.0026187341397412027.\u001b[0m\n",
            "\u001b[32m[I 2021-04-10 12:02:30,165]\u001b[0m Trial 69 finished with value: 402.1738684349874 and parameters: {'x': -18.054273071716846}. Best is trial 45 with value: 0.0026187341397412027.\u001b[0m\n",
            "\u001b[32m[I 2021-04-10 12:02:30,177]\u001b[0m Trial 70 finished with value: 805.9854973096694 and parameters: {'x': -26.389883714268176}. Best is trial 45 with value: 0.0026187341397412027.\u001b[0m\n",
            "\u001b[32m[I 2021-04-10 12:02:30,181]\u001b[0m Trial 71 finished with value: 1.981493352658275 and parameters: {'x': 3.4076552676910192}. Best is trial 45 with value: 0.0026187341397412027.\u001b[0m\n",
            "\u001b[32m[I 2021-04-10 12:02:30,194]\u001b[0m Trial 72 finished with value: 35.33153320478981 and parameters: {'x': -3.94403341215288}. Best is trial 45 with value: 0.0026187341397412027.\u001b[0m\n",
            "\u001b[32m[I 2021-04-10 12:02:30,199]\u001b[0m Trial 73 finished with value: 2.888296172285817 and parameters: {'x': 3.6994988003190286}. Best is trial 45 with value: 0.0026187341397412027.\u001b[0m\n",
            "\u001b[32m[I 2021-04-10 12:02:30,209]\u001b[0m Trial 74 finished with value: 158.7215655323456 and parameters: {'x': -10.598474730392788}. Best is trial 45 with value: 0.0026187341397412027.\u001b[0m\n",
            "\u001b[32m[I 2021-04-10 12:02:30,217]\u001b[0m Trial 75 finished with value: 78.4088906679077 and parameters: {'x': 10.854879483533793}. Best is trial 45 with value: 0.0026187341397412027.\u001b[0m\n",
            "\u001b[32m[I 2021-04-10 12:02:30,228]\u001b[0m Trial 76 finished with value: 0.04604490233324266 and parameters: {'x': 1.785419240533447}. Best is trial 45 with value: 0.0026187341397412027.\u001b[0m\n",
            "\u001b[32m[I 2021-04-10 12:02:30,238]\u001b[0m Trial 77 finished with value: 249.95314465696137 and parameters: {'x': 17.809906535364508}. Best is trial 45 with value: 0.0026187341397412027.\u001b[0m\n",
            "\u001b[32m[I 2021-04-10 12:02:30,242]\u001b[0m Trial 78 finished with value: 454.52703068715186 and parameters: {'x': 23.31963955340596}. Best is trial 45 with value: 0.0026187341397412027.\u001b[0m\n",
            "\u001b[32m[I 2021-04-10 12:02:30,252]\u001b[0m Trial 79 finished with value: 0.091903951406271 and parameters: {'x': 2.3031566449977157}. Best is trial 45 with value: 0.0026187341397412027.\u001b[0m\n",
            "\u001b[32m[I 2021-04-10 12:02:30,260]\u001b[0m Trial 80 finished with value: 1150.4719960272432 and parameters: {'x': 35.91860840345964}. Best is trial 45 with value: 0.0026187341397412027.\u001b[0m\n",
            "\u001b[32m[I 2021-04-10 12:02:30,265]\u001b[0m Trial 81 finished with value: 0.08949247450393696 and parameters: {'x': 1.7008470717109108}. Best is trial 45 with value: 0.0026187341397412027.\u001b[0m\n",
            "\u001b[32m[I 2021-04-10 12:02:30,272]\u001b[0m Trial 82 finished with value: 37.28756153144074 and parameters: {'x': 8.106354193087782}. Best is trial 45 with value: 0.0026187341397412027.\u001b[0m\n",
            "\u001b[32m[I 2021-04-10 12:02:30,281]\u001b[0m Trial 83 finished with value: 237.02923300657022 and parameters: {'x': -13.395753732980085}. Best is trial 45 with value: 0.0026187341397412027.\u001b[0m\n",
            "\u001b[32m[I 2021-04-10 12:02:30,287]\u001b[0m Trial 84 finished with value: 54.79351062129532 and parameters: {'x': -5.402263884873014}. Best is trial 45 with value: 0.0026187341397412027.\u001b[0m\n",
            "\u001b[32m[I 2021-04-10 12:02:30,293]\u001b[0m Trial 85 finished with value: 0.0950136467574651 and parameters: {'x': 1.691757162682626}. Best is trial 45 with value: 0.0026187341397412027.\u001b[0m\n",
            "\u001b[32m[I 2021-04-10 12:02:30,302]\u001b[0m Trial 86 finished with value: 121.79051610517287 and parameters: {'x': 13.03587405261463}. Best is trial 45 with value: 0.0026187341397412027.\u001b[0m\n",
            "\u001b[32m[I 2021-04-10 12:02:30,316]\u001b[0m Trial 87 finished with value: 51.379842170975195 and parameters: {'x': -5.167973365671443}. Best is trial 45 with value: 0.0026187341397412027.\u001b[0m\n",
            "\u001b[32m[I 2021-04-10 12:02:30,321]\u001b[0m Trial 88 finished with value: 605.6805765335735 and parameters: {'x': -22.610578549346894}. Best is trial 45 with value: 0.0026187341397412027.\u001b[0m\n",
            "\u001b[32m[I 2021-04-10 12:02:30,334]\u001b[0m Trial 89 finished with value: 0.24014337795556656 and parameters: {'x': 1.5099557387790705}. Best is trial 45 with value: 0.0026187341397412027.\u001b[0m\n",
            "\u001b[32m[I 2021-04-10 12:02:30,341]\u001b[0m Trial 90 finished with value: 291.5723221553253 and parameters: {'x': -15.075488928734233}. Best is trial 45 with value: 0.0026187341397412027.\u001b[0m\n",
            "\u001b[32m[I 2021-04-10 12:02:30,346]\u001b[0m Trial 91 finished with value: 0.5349563057251735 and parameters: {'x': 1.2685929274848557}. Best is trial 45 with value: 0.0026187341397412027.\u001b[0m\n",
            "\u001b[32m[I 2021-04-10 12:02:30,355]\u001b[0m Trial 92 finished with value: 8.025948150247636 and parameters: {'x': -0.8330104394879376}. Best is trial 45 with value: 0.0026187341397412027.\u001b[0m\n",
            "\u001b[32m[I 2021-04-10 12:02:30,365]\u001b[0m Trial 93 finished with value: 51.29327837323333 and parameters: {'x': 9.161932586476455}. Best is trial 45 with value: 0.0026187341397412027.\u001b[0m\n",
            "\u001b[32m[I 2021-04-10 12:02:30,382]\u001b[0m Trial 94 finished with value: 152.45163710459659 and parameters: {'x': -10.347130723556651}. Best is trial 45 with value: 0.0026187341397412027.\u001b[0m\n",
            "\u001b[32m[I 2021-04-10 12:02:30,387]\u001b[0m Trial 95 finished with value: 0.31376839421638825 and parameters: {'x': 1.4398496681993411}. Best is trial 45 with value: 0.0026187341397412027.\u001b[0m\n",
            "\u001b[32m[I 2021-04-10 12:02:30,395]\u001b[0m Trial 96 finished with value: 226.84600713831435 and parameters: {'x': 17.061407873712017}. Best is trial 45 with value: 0.0026187341397412027.\u001b[0m\n",
            "\u001b[32m[I 2021-04-10 12:02:30,403]\u001b[0m Trial 97 finished with value: 32.56338868941879 and parameters: {'x': 7.70643397310604}. Best is trial 45 with value: 0.0026187341397412027.\u001b[0m\n",
            "\u001b[32m[I 2021-04-10 12:02:30,407]\u001b[0m Trial 98 finished with value: 23.975901776487333 and parameters: {'x': -2.8965193532229945}. Best is trial 45 with value: 0.0026187341397412027.\u001b[0m\n",
            "\u001b[32m[I 2021-04-10 12:02:30,423]\u001b[0m Trial 99 finished with value: 86.82544054700122 and parameters: {'x': -7.318016985764794}. Best is trial 45 with value: 0.0026187341397412027.\u001b[0m\n"
          ],
          "name": "stderr"
        },
        {
          "output_type": "stream",
          "text": [
            "Minimum objective value: 0.0026187341397412027\n",
            "Best parameter: {'x': 1.948826431238957}\n"
          ],
          "name": "stdout"
        }
      ]
    }
  ]
}